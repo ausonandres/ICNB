{
 "cells": [
  {
   "cell_type": "markdown",
   "metadata": {},
   "source": [
    "# The totR method\n"
   ]
  },
  {
   "cell_type": "markdown",
   "metadata": {},
   "source": [
    "## This NB ilustrates the timing of threshold rebin (totR) method, developed by A. Laing and compares it with fixed-slice rebinning (fsR) method.\n",
    "\n",
    "- The fsR method has been the standard in IC reconstruction (up to February 2019).\n",
    "- totR is proposed as a more roubst alternative, to avoid proiferation of empty bins in the tails (an issue of the fsR method). "
   ]
  },
  {
   "cell_type": "markdown",
   "metadata": {},
   "source": [
    "### Author: A. Laing.\n",
    "\n",
    "- Reviewed by: JJGC"
   ]
  },
  {
   "cell_type": "code",
   "execution_count": 1,
   "metadata": {},
   "outputs": [
    {
     "name": "stdout",
     "output_type": "stream",
     "text": [
      "Last updated on  Sat Feb  2 13:54:45 2019\n"
     ]
    }
   ],
   "source": [
    "%load_ext autoreload\n",
    "%autoreload 2\n",
    "import os\n",
    "import sys\n",
    "import time\n",
    "import warnings\n",
    "import datetime \n",
    "print(\"Last updated on \", time.asctime())"
   ]
  },
  {
   "cell_type": "code",
   "execution_count": 2,
   "metadata": {},
   "outputs": [],
   "source": [
    "%matplotlib inline\n",
    "import matplotlib.pyplot as plt\n",
    "\n",
    "plt.rcParams[\"figure.figsize\"] = 10, 8\n",
    "plt.rcParams[\"font.size\"     ] = 14"
   ]
  },
  {
   "cell_type": "code",
   "execution_count": 4,
   "metadata": {},
   "outputs": [],
   "source": [
    "import seaborn as sns\n",
    "import numpy as np\n",
    "import pandas as pd\n",
    "import matplotlib\n",
    "import matplotlib.pyplot as plt\n",
    "import tables            as tb\n",
    "import random\n",
    "import glob\n",
    "import warnings\n",
    "sns.set()"
   ]
  },
  {
   "cell_type": "code",
   "execution_count": 5,
   "metadata": {},
   "outputs": [
    {
     "ename": "ImportError",
     "evalue": "cannot import name 'get_threshold_slices' from 'invisible_cities.reco.pmaps_functions' (/Users/jjgomezcadenas/Projects/IC/invisible_cities/reco/pmaps_functions.py)",
     "output_type": "error",
     "traceback": [
      "\u001b[0;31m---------------------------------------------------------------------------\u001b[0m",
      "\u001b[0;31mImportError\u001b[0m                               Traceback (most recent call last)",
      "\u001b[0;32m<ipython-input-5-69c238ecd0a5>\u001b[0m in \u001b[0;36m<module>\u001b[0;34m\u001b[0m\n\u001b[1;32m      1\u001b[0m \u001b[0;32mfrom\u001b[0m \u001b[0minvisible_cities\u001b[0m\u001b[0;34m.\u001b[0m\u001b[0mio\u001b[0m\u001b[0;34m.\u001b[0m\u001b[0mpmaps_io\u001b[0m \u001b[0;32mimport\u001b[0m \u001b[0mload_pmaps\u001b[0m\u001b[0;34m\u001b[0m\u001b[0;34m\u001b[0m\u001b[0m\n\u001b[1;32m      2\u001b[0m \u001b[0;32mfrom\u001b[0m \u001b[0minvisible_cities\u001b[0m\u001b[0;34m.\u001b[0m\u001b[0mreco\u001b[0m\u001b[0;34m.\u001b[0m\u001b[0mpmaps_functions\u001b[0m \u001b[0;32mimport\u001b[0m           \u001b[0mrebin_peak\u001b[0m\u001b[0;34m\u001b[0m\u001b[0;34m\u001b[0m\u001b[0m\n\u001b[0;32m----> 3\u001b[0;31m \u001b[0;32mfrom\u001b[0m \u001b[0minvisible_cities\u001b[0m\u001b[0;34m.\u001b[0m\u001b[0mreco\u001b[0m\u001b[0;34m.\u001b[0m\u001b[0mpmaps_functions\u001b[0m \u001b[0;32mimport\u001b[0m \u001b[0mget_threshold_slices\u001b[0m\u001b[0;34m\u001b[0m\u001b[0;34m\u001b[0m\u001b[0m\n\u001b[0m\u001b[1;32m      4\u001b[0m \u001b[0;32mfrom\u001b[0m \u001b[0minvisible_cities\u001b[0m\u001b[0;34m.\u001b[0m\u001b[0mreco\u001b[0m\u001b[0;34m.\u001b[0m\u001b[0mpmaps_functions\u001b[0m \u001b[0;32mimport\u001b[0m      \u001b[0mget_even_slices\u001b[0m\u001b[0;34m\u001b[0m\u001b[0;34m\u001b[0m\u001b[0m\n\u001b[1;32m      5\u001b[0m \u001b[0;32mfrom\u001b[0m \u001b[0minvisible_cities\u001b[0m\u001b[0;34m.\u001b[0m\u001b[0mreco\u001b[0m\u001b[0;34m.\u001b[0m\u001b[0mpmaps_functions\u001b[0m \u001b[0;32mimport\u001b[0m          \u001b[0mRebinMethod\u001b[0m\u001b[0;34m\u001b[0m\u001b[0;34m\u001b[0m\u001b[0m\n",
      "\u001b[0;31mImportError\u001b[0m: cannot import name 'get_threshold_slices' from 'invisible_cities.reco.pmaps_functions' (/Users/jjgomezcadenas/Projects/IC/invisible_cities/reco/pmaps_functions.py)"
     ]
    }
   ],
   "source": [
    "from invisible_cities.io.pmaps_io import load_pmaps\n",
    "from invisible_cities.reco.pmaps_functions import           rebin_peak\n",
    "from invisible_cities.reco.pmaps_functions import get_threshold_slices\n",
    "from invisible_cities.reco.pmaps_functions import      get_even_slices\n",
    "from invisible_cities.reco.pmaps_functions import          RebinMethod\n"
   ]
  },
  {
   "cell_type": "code",
   "execution_count": null,
   "metadata": {},
   "outputs": [],
   "source": []
  }
 ],
 "metadata": {
  "kernelspec": {
   "display_name": "Python 3",
   "language": "python",
   "name": "python3"
  },
  "language_info": {
   "codemirror_mode": {
    "name": "ipython",
    "version": 3
   },
   "file_extension": ".py",
   "mimetype": "text/x-python",
   "name": "python",
   "nbconvert_exporter": "python",
   "pygments_lexer": "ipython3",
   "version": "3.7.1"
  }
 },
 "nbformat": 4,
 "nbformat_minor": 2
}
